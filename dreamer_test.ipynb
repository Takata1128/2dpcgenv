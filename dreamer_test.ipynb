{
 "cells": [
  {
   "cell_type": "code",
   "execution_count": 29,
   "metadata": {},
   "outputs": [
    {
     "name": "stdout",
     "output_type": "stream",
     "text": [
      "The autoreload extension is already loaded. To reload it, use:\n",
      "  %reload_ext autoreload\n"
     ]
    }
   ],
   "source": [
    "%load_ext autoreload\n",
    "%autoreload 2"
   ]
  },
  {
   "cell_type": "code",
   "execution_count": 30,
   "metadata": {},
   "outputs": [
    {
     "name": "stdout",
     "output_type": "stream",
     "text": [
      "Total Reward: 13.100000000000001\n",
      "Steps: 17\n",
      "Total Reward: 10.900000000000027\n",
      "Steps: 100\n",
      "Total Reward: 22.899999999999977\n",
      "Steps: 80\n",
      "Total Reward: 8.700000000000022\n",
      "Steps: 100\n",
      "Total Reward: 16.3\n",
      "Steps: 100\n",
      "Total Reward: 34.89999999999997\n",
      "Steps: 100\n",
      "Total Reward: 13.6\n",
      "Steps: 100\n",
      "Total Reward: 14.100000000000028\n",
      "Steps: 100\n",
      "Total Reward: 3.199999999999997\n",
      "Steps: 100\n",
      "Total Reward: 17.400000000000023\n",
      "Steps: 100\n"
     ]
    }
   ],
   "source": [
    "from rl.env import PCGEnv\n",
    "from rl.wrappers import ChannelFirstObservation\n",
    "from rl.ppo.policy import Policy\n",
    "from rl.dreamer.config import DreamerConfig\n",
    "from rl.dreamer.trainer import Trainer\n",
    "import cv2\n",
    "import matplotlib.pyplot as plt\n",
    "import numpy as np\n",
    "import torch\n",
    "env = ChannelFirstObservation(PCGEnv())\n",
    "config = DreamerConfig()\n",
    "trainer = Trainer(env,config,True)\n",
    "# cv2.imshow('image',obs)\n",
    "trainer.load_models('/root/mnt/2dpcgenv/models/20220920121310/episode_1000')\n",
    "trainer.view(10)\n",
    "trainer.compare_imagination(10)\n"
   ]
  }
 ],
 "metadata": {
  "kernelspec": {
   "display_name": "Python 3.8.0 64-bit ('3.8.0')",
   "language": "python",
   "name": "python3"
  },
  "language_info": {
   "codemirror_mode": {
    "name": "ipython",
    "version": 3
   },
   "file_extension": ".py",
   "mimetype": "text/x-python",
   "name": "python",
   "nbconvert_exporter": "python",
   "pygments_lexer": "ipython3",
   "version": "3.8.0"
  },
  "orig_nbformat": 4,
  "vscode": {
   "interpreter": {
    "hash": "c6f04e54c30bdab06014272fe7a39801e1ba23455c10166a981ed4409abbe2cf"
   }
  }
 },
 "nbformat": 4,
 "nbformat_minor": 2
}
